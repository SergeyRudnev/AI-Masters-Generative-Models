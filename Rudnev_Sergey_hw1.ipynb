{
 "cells": [
  {
   "cell_type": "markdown",
   "metadata": {
    "id": "5rUp2xWkdGFu"
   },
   "source": [
    "# Homework 1: Autoregressive models"
   ]
  },
  {
   "cell_type": "markdown",
   "metadata": {},
   "source": [
    "# Руднев Сергей"
   ]
  },
  {
   "cell_type": "markdown",
   "metadata": {},
   "source": [
    "## Task 1. Theory (5pt)"
   ]
  },
  {
   "cell_type": "markdown",
   "metadata": {
    "id": "QLGp4c5UPByO"
   },
   "source": [
    "### Problem 1: Sampling from KDE (2pt)\n",
    "\n",
    "Let $\\hat{p}_h(x) = \\frac{1}{n h^d} \\sum\\limits_{i = 1}^{n} K\\left(\\frac{x - X_i}{h}\\right)$ is the Kernel Density Estimator (see seminar 1) of a density $p_{\\pi}$, where $X_1, \\dots, X_n \\sim p_{\\pi}$, $X_i \\in \\mathbb{R}^d$.\n",
    "\n",
    "Consider the following sampling scheme:\n",
    ">\n",
    ">1. Choose random number $k$ uniformly from the collection of numbers $\\{1, 2, \\dots, n\\}$.\n",
    ">\n",
    ">2. Sample the random variable $\\tilde{X}$ from the kernel $\\frac{1}{h^d} K\\left(\\frac{x - X_k}{h}\\right)$.\n",
    ">\n",
    "\n",
    "Prove, that $\\tilde{X}$ is distributed according to $\\hat{p}_h(x)$, i.e. the scheme above is the correct sampling scheme for $\\hat{p}_h(x)$."
   ]
  },
  {
   "cell_type": "markdown",
   "metadata": {
    "id": "P0HFuytJPQ7o"
   },
   "source": [
    "#### Solution:\n",
    "So let us prove, that $\\hat{p}_h(x)$ is pdf of $\\tilde{X}$.\n",
    "$$\\forall B \\in \\mathcal{B}(\\mathbb{R}^d)\\  P_\\tilde{X}(B) = \\sum\\limits_{i = 1}^{n} P_\\tilde{X}(B|k = i)P(k = i) = \\sum\\limits_{i = 1}^{n} P_\\tilde{X}(B|k = i)\\frac{1}{n} = \\frac{1}{n}\\sum\\limits_{i = 1}^{n} \\int_{B} \\frac{1}{h^d}K\\left(\\frac{x - X_i}{h}\\right)dx=\\int_{B} \\frac{1}{nh^d}\\sum\\limits_{i = 1}^{n} K\\left(\\frac{x - X_i}{h}\\right)dx = \\int_{B} \\hat{p}_h(x) dx.$$"
   ]
  },
  {
   "cell_type": "markdown",
   "metadata": {
    "id": "tk8-eCJuaTrU",
    "tags": []
   },
   "source": [
    "### Problem 2: MADE theory (2pt)\n",
    "\n",
    "Consider the [MADE](https://arxiv.org/abs/1502.03509) model with a single hidden layer (we have discussed it at seminar 2). The input object is $\\mathbf{x} \\in \\mathbb{R}^m$. We denote by $\\mathbf{W} \\in \\mathbb{R}^{h \\times m}$ the matrix of weights between the input and the hidden layer, and by $\\mathbf{V} \\in \\mathbb{R}^{m \\times h}$ the matrix of weights between the hidden and the output layer ($h$ is the number of neurons in the hidden layer). Let us generate the correct autoregressive masks $\\mathbf{M}_{\\mathbf{W}} \\in \\mathbb{R}^{h \\times m}$ and $\\mathbf{M}_{\\mathbf{V}} \\in \\mathbb{R}^{m \\times h}$ (the generation algorithm is given in Lecture 1) for the direct order of variables\n",
    "$$\n",
    "    p(\\mathbf{x}) = p(x_1) \\cdot p(x_2 | x_1) \\cdot \\dots \\cdot p(x_m | x_{m-1}, \\dots, x_1).\n",
    "$$ \n",
    "(The order of neurons is given by indices at the probabilities in the formula. In this case, it is a direct order.)\n",
    "\n",
    "Each mask is a binary matrix of 0 and 1. Let's introduce the matrix $\\mathbf{M} = \\mathbf{M}_{\\mathbf{V}} \\mathbf{M}_{\\mathbf{W}}$. Prove that:\n",
    "* $\\mathbf{M}$ is strictly lower triangular (has zeros on the diagonal and above the diagonal);\n",
    "* $\\mathbf{M}_{ij}$  is equal to the number of paths in the network graph between the output neuron $\\hat{x}_i$ and the input neuron $x_j$."
   ]
  },
  {
   "cell_type": "markdown",
   "metadata": {
    "id": "erVRXwzqPHwV"
   },
   "source": [
    "#### Solution:\n",
    "Algorithm of constructing autoregressive model:\n",
    "Assign a random number $k$ from $1$  to $m−1$ to each hidden unit. The number $k(i)$ gives the maximum number of input units to which the unit $i$ from the hidden layer can be connected. So $$\\mathbf{M}_{\\mathbf{W}}^{i,j} = I_{k(i) \\ge j}.$$ \n",
    "Output unit number $j$ has to be only\n",
    "connected to $x_1,...,x_{j-1}$. So $$\\mathbf{M}_{\\mathbf{V}}^{j,i} = I_{k(i)< j}. $$\n",
    "\n",
    "$$\\mathbf{M}_{l',l} = \\sum_{i=1}^h \\mathbf{M}_{\\mathbf{V}}^{l',i}  \\mathbf{M}_{\\mathbf{W}}^{i,l} = \\sum_{i=1}^h I_{k(i)< l'} I_{k(i) \\ge l}.$$\n",
    "\n",
    "So if $l' \\le l$, then $\\mathbf{M}_{l',l} = 0$ and $\\mathbf{M}$ is strictly lower triangular.\n",
    "\n",
    "Notice that $ I_{k(i)< l'} I_{k(i) \\ge l} = 1$, if exists the path between the output $\\hat{x}_{l'}$ and the input $x_l$ through neuron with the number $k(i)$ from the hidden layer.\n",
    "\n",
    "So $\\mathbf{M}_{l',l} = \\sum_{i=1}^h I_{k(i)< l'} I_{k(i) \\ge l} $represents the number of paths in the network graph between the output $\\hat{x}_{l'}$ and the input $x_l$."
   ]
  },
  {
   "cell_type": "markdown",
   "metadata": {
    "id": "ivV4DY1SPEIL"
   },
   "source": [
    "### Problem 3: $\\alpha$-divergence (1pt)\n",
    "\n",
    "In the course, we will meet different divergences (not only $KL$). So let's get acquainted with the class of $\\alpha$-divergences:\n",
    "$$\n",
    "    D_{\\alpha}(p || q) = \\frac{4}{1 - \\alpha^2} \\left( 1 - \\int p(x)^{\\frac{1 + \\alpha}{2}}q(x)^{\\frac{1 - \\alpha}{2}}dx\\right).\n",
    "$$\n",
    "For each $\\alpha \\in [-\\infty; +\\infty]$ the function $D_{\\alpha} (p || q)$ is a measure of the similarity between two distributions. $D_{\\alpha} (p || q)$ has different properties for different $\\alpha$.\n",
    "\n",
    "Prove that for $\\alpha \\rightarrow 1$ the divergence $D_{\\alpha}(p || q) \\rightarrow KL(p || q)$, and for $\\alpha \\rightarrow -1$ the divergence $D_{\\alpha}(p || q) \\rightarrow KL(q || p)$. \n",
    "\n",
    "**Hint:** use the fact that $t^\\varepsilon = \\exp(\\varepsilon \\cdot \\ln t) = 1 + \\varepsilon \\cdot \\ln t + O(\\varepsilon^2)$."
   ]
  },
  {
   "cell_type": "markdown",
   "metadata": {},
   "source": [
    "#### Solution:\n",
    "For $\\alpha \\rightarrow 1$ let $\\varepsilon:= \\frac{1-\\alpha}{2}$, then $\\varepsilon \\rightarrow 0.$\n",
    "$$\\frac{4}{1 - \\alpha^2} \\left( 1 - \\int p(x)^{\\frac{1 + \\alpha}{2}}q(x)^{\\frac{1 - \\alpha}{2}}dx\\right) = \\frac{1}{\\varepsilon(1-\\varepsilon)} \\left( 1 - \\int p(x)^{1-\\varepsilon}q(x)^{\\varepsilon}dx\\right) =  \\frac{1}{\\varepsilon(1-\\varepsilon)} \\left( 1 - \\int p(x) e^{-\\varepsilon \\ln p(x)} e^{\\varepsilon \\ln q(x)}dx\\right) =  \\frac{1}{\\varepsilon(1-\\varepsilon)} \\left( 1 - \\int p(x) (1 -\\varepsilon \\ln p(x) + O(\\varepsilon^2)) (1 +\\varepsilon \\ln q(x) + O(\\varepsilon^2) dx\\right) =  \\frac{1}{\\varepsilon(1-\\varepsilon)} \\left( 1 - \\int p(x)dx + \\varepsilon \\int p(x) (\\ln p(x) - \\ln q(x))dx  + \\int O(\\varepsilon^2) dx\\right) =  \\frac{1}{1-\\varepsilon} \\left( \\int p(x) \\ln \\frac{p(x)}{q(x)}dx  + \\int O(\\varepsilon) dx\\right) \\rightarrow \\int p(x) \\ln \\frac{p(x)}{q(x)}dx = KL(p || q).$$\n",
    "\n",
    "For $\\alpha \\rightarrow -1$ let $\\varepsilon:= \\frac{1+\\alpha}{2}$, then $\\varepsilon \\rightarrow 0.$\n",
    "$$\\frac{4}{1 - \\alpha^2} \\left( 1 - \\int p(x)^{\\frac{1 + \\alpha}{2}}q(x)^{\\frac{1 - \\alpha}{2}}dx\\right) = \\frac{1}{\\varepsilon(1-\\varepsilon)} \\left( 1 - \\int p(x)^{\\varepsilon}q(x)^{1-\\varepsilon}dx\\right) =  \\frac{1}{\\varepsilon(1-\\varepsilon)} \\left( 1 - \\int q(x) e^{\\varepsilon \\ln p(x)} e^{-\\varepsilon \\ln q(x)}dx\\right) =  \\frac{1}{\\varepsilon(1-\\varepsilon)} \\left( 1 - \\int q(x) (1 +\\varepsilon \\ln p(x) + O(\\varepsilon^2)) (1 -\\varepsilon \\ln q(x) + O(\\varepsilon^2) dx\\right) =  \\frac{1}{\\varepsilon(1-\\varepsilon)} \\left( 1 - \\int q(x)dx + \\varepsilon \\int q(x) (\\ln q(x) - \\ln p(x))dx  + \\int O(\\varepsilon^2) dx\\right) =  \\frac{1}{1-\\varepsilon} \\left( \\int q(x) \\ln \\frac{q(x)}{p(x)}dx  + \\int O(\\varepsilon) dx\\right) \\rightarrow \\int q(x) \\ln \\frac{q(x)}{p(x)}dx = KL(q || p).$$"
   ]
  },
  {
   "cell_type": "markdown",
   "metadata": {},
   "source": [
    "### Problem 4*: Histogram for continuous random vectors in $\\mathbb{R}^d$ (extra 2pt)\n",
    "\n",
    "Let $\\xi \\in \\mathbb{R}^d$ is an absolutely continuous random vector in with probability density function $p_{\\xi}(x)$ , such that $\\,\\text{supp}(p_{\\xi}) \\subseteq [0, 1]^{d}$ ($p_{\\xi}(x) = 0 \\,\\, \\forall x \\in \\mathbb{R}^d \\backslash [0, 1]^d$). Additionally assume, that $p_{\\xi}$ is *Lipschitz continuous* with Lipschitz constant $L$, i.e.:\n",
    "$$\n",
    "\\vert p_{\\xi}(x) - p_{\\xi}(y) \\vert \\leq L \\Vert x - y \\Vert_2\\ \\forall x, y \\in \\mathbb{R}^d .\n",
    "$$  \n",
    "\n",
    "Let $X_1, X_2, \\dots, X_n$ be i.i.d sample from $\\xi$. Consider dividing the hypercube $[0, 1]^d$ into subcubes $C_1, C_2, \\dots, C_N$ with the side length equals to $h$ (i.e. we obtain $N = \\left(\\frac{1}{h}\\right)^{d}$ subcubes). The histogram density estimator is as follows: \n",
    "\n",
    "$$\n",
    "\\hat{p}_h(x) = \\sum\\limits_{j = 1}^{N} \\frac{\\hat{\\theta_j}}{h^d} I\\left( x \\in C_j\\right).\n",
    "$$\n",
    "\n",
    "In the equation above $I(\\,\\cdot\\,)$ is the indicator function and $\\hat{\\theta_j} = \\frac{1}{n} \\sum\\limits_{i = 1}^{n} I(X_i \\in C_j)$.\n",
    "\n",
    "Let's estimate the discrepancy between true density $p_{\\xi}(x)$ and histogram density estimator $\\hat{p}_h(x)$. Consider the $MSE(x, h) = \\mathbb{E}(\\hat{p}_h(x)) - p_{\\xi}(x))^2$ (the expectation is taken over sample $X_1, \\dots, X_n$). \n",
    "\n",
    "* (a) Find an upper bound on $MSE(x, h)$ in terms of $L, h, d, n$. (**Hint:** utilize bias - variance decomposition and deal with each term separately) \n",
    "\n",
    "* (b) Find $h = h_n$ which minimizes the upper bound on $MSE(x, h)$. At which rate $MSE(x, h_n)$ converges to zero?"
   ]
  },
  {
   "cell_type": "markdown",
   "metadata": {},
   "source": [
    "#### Solution:\n",
    "(a)\n",
    "$$MSE(x,h) = \\mathbb{Var} \\hat{p}_h(x) + (\\mathbb{E}\\hat{p}_h(x) - p_{\\xi}(x))^2.$$\n",
    "\n",
    "1)$$\\mathbb{Var} \\hat{p}_h(x) = \\mathbb{E} \\hat{p}^2_h(x)- (\\mathbb{E}\\hat{p}_h(x))^2.$$\n",
    "\n",
    "$$\\mathbb{E}\\hat{p}_h(x) = \\sum\\limits_{j = 1}^{N} \\frac{\\mathbb{E}\\hat{\\theta_j}}{h^d} I\\left( x \\in C_j\\right).$$\n",
    "\n",
    "$$\\mathbb{E}\\hat{\\theta_j} = \\frac{1}{n} \\sum\\limits_{i = 1}^{n} P(X_i \\in C_j) = \\frac{1}{n} \\sum\\limits_{i = 1}^{n} \\int_{C_j} p_{\\xi}(x)dx \\le \\frac{1}{n} \\sum\\limits_{i = 1}^{n} \\int_{C_j}1 dx = h^d.$$\n",
    "\n",
    "$$\\mathbb{E}\\hat{p}_h(x) \\le \\sum\\limits_{j = 1}^{N} \\frac{h^d}{h^d} I\\left( x \\in C_j\\right) =  \\sum\\limits_{j = 1}^{N} I\\left( x \\in C_j\\right) = 1.$$\n",
    "\n",
    "$$\\mathbb{E}\\hat{p}^2_h(x) = \\mathbb{E} \\sum\\limits_{j = 1}^{N} \\frac{\\hat{\\theta_j}^2}{h^{2d}} I\\left( x \\in C_j\\right) + 2\\mathbb{E} \\sum\\limits_{i < j} \\frac{\\hat{\\theta_j}\\hat{\\theta_i}}{h^{2d}} I\\left( x \\in C_j\\right)I\\left( x \\in C_i\\right),$$\n",
    "\n",
    "but $I\\left( x \\in C_j\\right)I\\left( x \\in C_i\\right)=0$ for $i\\ne j,$ then\n",
    "\n",
    "$$\\mathbb{E}\\hat{p}^2_h(x) = \\mathbb{E} \\sum\\limits_{j = 1}^{N} \\frac{\\hat{\\theta_j}^2}{h^{2d}} I\\left( x \\in C_j\\right) =  \\sum\\limits_{j = 1}^{N} \\frac{\\mathbb{E}\\hat{\\theta_j}^2}{h^{2d}} I\\left( x \\in C_j\\right).$$\n",
    "\n",
    "$$\\mathbb{E} \\hat{\\theta_j}^2 =  \\frac{1}{n^2} \\sum\\limits_{i = 1}^{n} P(X_i \\in C_j) + 2 \\frac{1}{n^2} \\sum\\limits_{i < m}P(X_i \\in C_j)P(X_m \\in C_j) \\le \\frac{1}{n^2} \\sum\\limits_{i = 1}^{n} h^d + 2\\frac{1}{n^2}\\frac{n(n-1)}{2}h^{2d} = \\frac{h^d}{n} + \\frac{(n-1)h^{2d}}{n}.$$\n",
    "\n",
    "So $$\\mathbb{E}\\hat{p}^2_h(x) \\le \\left(\\frac{h^d}{n} + \\frac{(n-1)h^{2d}}{n} \\right)\\sum\\limits_{j = 1}^{N} \\frac{1}{h^{2d}} I\\left( x \\in C_j\\right) = \\left(\\frac{1}{nh^{d}} + \\frac{(n-1)}{n} \\right).$$\n",
    "\n",
    "$$\\mathbb{Var} \\hat{p}_h(x)\\le \\mathbb{E}\\hat{p}^2_h(x) \\le \\left(\\frac{1}{nh^{d}} + \\frac{(n-1)}{n} \\right).$$\n",
    "\n",
    "2) $$\\mathbb{E}\\hat{p}_h(x) - p_{\\xi}(x) = \\frac{1}{h^d}\\sum\\limits_{j = 1}^{N} I\\left( x \\in C_j\\right)\\left (\\mathbb{E}\\hat{\\theta_j} - h^dp_{\\xi}(x) \\right).$$\n",
    "\n",
    "$$\\mathbb{E}\\hat{\\theta_j} - h^dp_{\\xi}(x) = \\frac{1}{n} \\sum\\limits_{i = 1}^{n} \\left( \\int_{C_j} p_{\\xi}(y)dy - h^dp_{\\xi}(x)\\right) = \\frac{1}{n} \\sum\\limits_{i = 1}^{n}  \\int_{C_j}\\left( p_{\\xi}(y) - p_{\\xi}(x) \\right)dy \\le  \\frac{1}{n} \\sum\\limits_{i = 1}^{n}  \\int_{C_j}| p_{\\xi}(y) - p_{\\xi}(x)| dy \\le \\frac{1}{n} \\sum\\limits_{i = 1}^{n}  \\int_{C_j}L \\Vert x - y \\Vert_2\\ dy \\le \\frac{1}{n} \\sum\\limits_{i = 1}^{n}  \\int_{C_j}L \\sqrt{d} h dy = \\frac{1}{n} \\sum\\limits_{i = 1}^{n} L \\sqrt{d} h^{d+1} = L \\sqrt{d} h^{d+1}.$$\n",
    "\n",
    "As a result $$MSE(x,h) \\le \\left(\\frac{1}{nh^{d}} + \\frac{(n-1)}{n} \\right) + L^2 d h^{2d+2}.$$\n",
    "\n",
    "(b) $$ \\left( \\frac{1}{nh^{d}} + \\frac{(n-1)}{n} + L^2 d h^{2d+2} \\right)'_h = \\frac{-d}{nh^{d+1}} + (2d+2)L^2 d h^{2d+1} = 0.$$\n",
    "\n",
    "$$h_n = \\left( 2(d+1)L^2n\\right)^{-(3d+2)}.$$"
   ]
  },
  {
   "cell_type": "markdown",
   "metadata": {
    "id": "d2LH7vKPPVUt"
   },
   "source": [
    "Now it time to move on to practical part of homework.\n",
    "\n",
    "In our course we have a small util [package](https://github.com/r-isachenko/2022-DGM-Ozon-course/blob/main/homeworks/dgm_utils/utils.py) with some usefull functions for loading and visualizing the images and training plots. In each homework there is a cell with installing this package. Please read carefully what functions we have in this package. It could help you to solve the tasks."
   ]
  },
  {
   "cell_type": "code",
   "execution_count": 2,
   "metadata": {
    "colab": {
     "base_uri": "https://localhost:8080/"
    },
    "collapsed": true,
    "id": "7wXq7VJ_SRAl",
    "outputId": "4e0ff17d-460a-4cf3-9b61-e68aafeba295"
   },
   "outputs": [
    {
     "name": "stdout",
     "output_type": "stream",
     "text": [
      "Клонирование в «2022-2023-DGM-AIMasters-course»…\n",
      "remote: Enumerating objects: 520, done.\u001b[K\n",
      "remote: Counting objects: 100% (61/61), done.\u001b[K\n",
      "remote: Compressing objects: 100% (38/38), done.\u001b[K\n",
      "remote: Total 520 (delta 22), reused 61 (delta 22), pack-reused 459\u001b[K\n",
      "Получение объектов: 100% (520/520), 375.22 MiB | 7.60 MiB/s, готово.\n",
      "Определение изменений: 100% (103/103), готово.\n",
      "Processing ./2022-2023-DGM-AIMasters-course/homeworks\n",
      "\u001b[33m  DEPRECATION: A future pip version will change local packages to be built in-place without first copying to a temporary directory. We recommend you use --use-feature=in-tree-build to test your packages with this new behavior before it becomes the default.\n",
      "   pip 21.3 will remove support for this functionality. You can find discussion regarding this at https://github.com/pypa/pip/issues/7555.\u001b[0m\n",
      "Requirement already satisfied: numpy in /home/pk/Программы/anaconda3/lib/python3.9/site-packages (from dgm-utils==0.1.0) (1.20.3)\n",
      "Requirement already satisfied: matplotlib in /home/pk/Программы/anaconda3/lib/python3.9/site-packages (from dgm-utils==0.1.0) (3.4.3)\n",
      "Requirement already satisfied: pillow in /home/pk/Программы/anaconda3/lib/python3.9/site-packages (from dgm-utils==0.1.0) (8.4.0)\n",
      "Requirement already satisfied: tqdm in /home/pk/Программы/anaconda3/lib/python3.9/site-packages (from dgm-utils==0.1.0) (4.62.3)\n",
      "Requirement already satisfied: torch in /home/pk/Программы/anaconda3/lib/python3.9/site-packages (from dgm-utils==0.1.0) (1.12.1)\n",
      "Collecting torchvision\n",
      "  Downloading torchvision-0.13.1-cp39-cp39-manylinux1_x86_64.whl (19.1 MB)\n",
      "\u001b[K     |████████████████████████████████| 19.1 MB 10.6 MB/s eta 0:00:01\n",
      "\u001b[?25hCollecting torchaudio\n",
      "  Downloading torchaudio-0.12.1-cp39-cp39-manylinux1_x86_64.whl (3.7 MB)\n",
      "\u001b[K     |████████████████████████████████| 3.7 MB 7.8 MB/s eta 0:00:01\n",
      "\u001b[?25hCollecting gdown\n",
      "  Downloading gdown-4.5.1.tar.gz (14 kB)\n",
      "  Installing build dependencies ... \u001b[?25ldone\n",
      "\u001b[?25h  Getting requirements to build wheel ... \u001b[?25ldone\n",
      "\u001b[?25h    Preparing wheel metadata ... \u001b[?25ldone\n",
      "\u001b[?25hRequirement already satisfied: scikit-learn in /home/pk/Программы/anaconda3/lib/python3.9/site-packages (from dgm-utils==0.1.0) (0.24.2)\n",
      "Requirement already satisfied: beautifulsoup4 in /home/pk/Программы/anaconda3/lib/python3.9/site-packages (from gdown->dgm-utils==0.1.0) (4.10.0)\n",
      "Requirement already satisfied: filelock in /home/pk/Программы/anaconda3/lib/python3.9/site-packages (from gdown->dgm-utils==0.1.0) (3.3.1)\n",
      "Requirement already satisfied: requests[socks] in /home/pk/Программы/anaconda3/lib/python3.9/site-packages (from gdown->dgm-utils==0.1.0) (2.26.0)\n",
      "Requirement already satisfied: six in /home/pk/Программы/anaconda3/lib/python3.9/site-packages (from gdown->dgm-utils==0.1.0) (1.16.0)\n",
      "Requirement already satisfied: soupsieve>1.2 in /home/pk/Программы/anaconda3/lib/python3.9/site-packages (from beautifulsoup4->gdown->dgm-utils==0.1.0) (2.2.1)\n",
      "Requirement already satisfied: kiwisolver>=1.0.1 in /home/pk/Программы/anaconda3/lib/python3.9/site-packages (from matplotlib->dgm-utils==0.1.0) (1.3.1)\n",
      "Requirement already satisfied: python-dateutil>=2.7 in /home/pk/Программы/anaconda3/lib/python3.9/site-packages (from matplotlib->dgm-utils==0.1.0) (2.8.2)\n",
      "Requirement already satisfied: pyparsing>=2.2.1 in /home/pk/Программы/anaconda3/lib/python3.9/site-packages (from matplotlib->dgm-utils==0.1.0) (3.0.4)\n",
      "Requirement already satisfied: cycler>=0.10 in /home/pk/Программы/anaconda3/lib/python3.9/site-packages (from matplotlib->dgm-utils==0.1.0) (0.10.0)\n",
      "Requirement already satisfied: certifi>=2017.4.17 in /home/pk/Программы/anaconda3/lib/python3.9/site-packages (from requests[socks]->gdown->dgm-utils==0.1.0) (2021.10.8)\n",
      "Requirement already satisfied: charset-normalizer~=2.0.0 in /home/pk/Программы/anaconda3/lib/python3.9/site-packages (from requests[socks]->gdown->dgm-utils==0.1.0) (2.0.4)\n",
      "Requirement already satisfied: urllib3<1.27,>=1.21.1 in /home/pk/Программы/anaconda3/lib/python3.9/site-packages (from requests[socks]->gdown->dgm-utils==0.1.0) (1.26.7)\n",
      "Requirement already satisfied: idna<4,>=2.5 in /home/pk/Программы/anaconda3/lib/python3.9/site-packages (from requests[socks]->gdown->dgm-utils==0.1.0) (3.2)\n",
      "Requirement already satisfied: PySocks!=1.5.7,>=1.5.6 in /home/pk/Программы/anaconda3/lib/python3.9/site-packages (from requests[socks]->gdown->dgm-utils==0.1.0) (1.7.1)\n",
      "Requirement already satisfied: joblib>=0.11 in /home/pk/Программы/anaconda3/lib/python3.9/site-packages (from scikit-learn->dgm-utils==0.1.0) (1.1.0)\n",
      "Requirement already satisfied: scipy>=0.19.1 in /home/pk/Программы/anaconda3/lib/python3.9/site-packages (from scikit-learn->dgm-utils==0.1.0) (1.7.1)\n",
      "Requirement already satisfied: threadpoolctl>=2.0.0 in /home/pk/Программы/anaconda3/lib/python3.9/site-packages (from scikit-learn->dgm-utils==0.1.0) (2.2.0)\n",
      "Requirement already satisfied: typing-extensions in /home/pk/Программы/anaconda3/lib/python3.9/site-packages (from torch->dgm-utils==0.1.0) (3.10.0.2)\n",
      "Building wheels for collected packages: dgm-utils, gdown\n",
      "  Building wheel for dgm-utils (setup.py) ... \u001b[?25ldone\n",
      "\u001b[?25h  Created wheel for dgm-utils: filename=dgm_utils-0.1.0-py3-none-any.whl size=3618 sha256=7b61c9eefaf4a1dfffd584badac89875fc56675689ce2d7910a0b86063f737f0\n",
      "  Stored in directory: /tmp/pip-ephem-wheel-cache-arx2k97h/wheels/fc/83/26/2185e18dcc3c079c94bd0bbb7d939b5914ba4062209af3e6dc\n",
      "  Building wheel for gdown (PEP 517) ... \u001b[?25ldone\n",
      "\u001b[?25h  Created wheel for gdown: filename=gdown-4.5.1-py3-none-any.whl size=14933 sha256=a8617266178de0603104c17c1de557c6ac56a8e89ffbda7e73c72342d2544086\n",
      "  Stored in directory: /home/pk/.cache/pip/wheels/b8/79/f0/b523d25d96b0bbb12bb024b97940d08c4fcd498a00070c8d82\n",
      "Successfully built dgm-utils gdown\n",
      "Installing collected packages: torchvision, torchaudio, gdown, dgm-utils\n",
      "Successfully installed dgm-utils-0.1.0 gdown-4.5.1 torchaudio-0.12.1 torchvision-0.13.1\n"
     ]
    }
   ],
   "source": [
    "REPO_NAME = \"2022-2023-DGM-AIMasters-course\"\n",
    "!if [ -d {REPO_NAME} ]; then rm -Rf {REPO_NAME}; fi\n",
    "!git clone https://github.com/r-isachenko/{REPO_NAME}.git\n",
    "!cd {REPO_NAME}\n",
    "!pip install ./{REPO_NAME}/homeworks/\n",
    "!rm -Rf {REPO_NAME}"
   ]
  },
  {
   "cell_type": "code",
   "execution_count": 1,
   "metadata": {
    "id": "m-44Dxk6SRAp"
   },
   "outputs": [],
   "source": [
    "from dgm_utils import train_model, plot_training_curves\n",
    "from dgm_utils import show_samples, visualize_images, load_pickle"
   ]
  },
  {
   "cell_type": "code",
   "execution_count": 2,
   "metadata": {
    "id": "zk6rWePvdGFv"
   },
   "outputs": [],
   "source": [
    "import os\n",
    "import numpy as np\n",
    "import matplotlib.pyplot as plt\n",
    "\n",
    "from tqdm.notebook import tqdm\n",
    "\n",
    "import torch\n",
    "import torch.nn as nn\n",
    "import torch.nn.functional as F\n",
    "import torch.utils.data as data\n",
    "\n",
    "USE_CUDA = torch.cuda.is_available()"
   ]
  },
  {
   "cell_type": "code",
   "execution_count": 3,
   "metadata": {
    "colab": {
     "base_uri": "https://localhost:8080/"
    },
    "id": "_m5NVPFaJGHO",
    "outputId": "506a03c5-4bea-49c3-bf41-12f15e190736"
   },
   "outputs": [],
   "source": [
    "#from google.colab import drive\n",
    "#drive.mount('/content/drive')"
   ]
  },
  {
   "cell_type": "markdown",
   "metadata": {
    "id": "KHouHarf_Hs-"
   },
   "source": [
    "## Task 2: PixelCNN on MNIST (5pt)\n",
    "\n",
    "[PixelCNN](https://arxiv.org/abs/1601.06759) model uses masked causal convoultions on images, we have discussed this model on the lecture 2.\n",
    "\n",
    "Here you have to train this model on MNIST images. See paper for details.\n",
    "\n",
    "Download the data from [here](https://drive.google.com/file/d/1hExV0C8wQWsrA4HfRTq9y9rMo7Pjd9Gw/view?usp=sharing) (you could use the cell below)."
   ]
  },
  {
   "cell_type": "code",
   "execution_count": 5,
   "metadata": {
    "colab": {
     "base_uri": "https://localhost:8080/"
    },
    "id": "Ssrb-5jW_Ilh",
    "outputId": "44688928-b681-481c-8d26-f0787811ac5a"
   },
   "outputs": [
    {
     "name": "stdout",
     "output_type": "stream",
     "text": [
      "/home/pk/Программы/anaconda3/lib/python3.9/site-packages/gdown/cli.py:127: FutureWarning: Option `--id` was deprecated in version 4.3.1 and will be removed in 5.0. You don't need to pass it anymore to use a file ID.\n",
      "  warnings.warn(\n",
      "Downloading...\n",
      "From: https://drive.google.com/uc?id=1hExV0C8wQWsrA4HfRTq9y9rMo7Pjd9Gw\n",
      "To: /home/pk/Ozon Masters/3 сем/Генеративные модели/2022-2023-DGM-AIMasters-course/homeworks/mnist.pkl\n",
      "100%|████████████████████████████████████████| 188M/188M [00:18<00:00, 9.95MB/s]\n"
     ]
    }
   ],
   "source": [
    "!gdown --id 1hExV0C8wQWsrA4HfRTq9y9rMo7Pjd9Gw"
   ]
  },
  {
   "cell_type": "code",
   "execution_count": 4,
   "metadata": {
    "colab": {
     "base_uri": "https://localhost:8080/",
     "height": 373
    },
    "id": "PiOBcSvx_PN8",
    "outputId": "2a8464be-ac67-4fda-cb82-2e8d0a90c385"
   },
   "outputs": [
    {
     "data": {
      "image/png": "[encoded data removed]",
      "text/plain": [
       "<Figure size 432x432 with 1 Axes>"
      ]
     },
     "metadata": {
      "needs_background": "light"
     },
     "output_type": "display_data"
    }
   ],
   "source": [
    "#train_data, test_data = load_pickle('/content/mnist.pkl', flatten=False, binarize=True)\n",
    "train_data, test_data = load_pickle('./mnist.pkl', flatten=False, binarize=True)\n",
    "visualize_images(train_data, 'MNIST samples')"
   ]
  },
  {
   "cell_type": "markdown",
   "metadata": {
    "id": "elXdTtB7_6Xl"
   },
   "source": [
    "Masked Convolution Layer is the basic building block of PixelCNN model. Now you have to implement it."
   ]
  },
  {
   "cell_type": "code",
   "execution_count": 5,
   "metadata": {
    "id": "ybALnsgO_PRW"
   },
   "outputs": [],
   "source": [
    "class MaskedConv2d(nn.Conv2d):\n",
    "    def __init__(self, mask_type, in_channels, out_channels, kernel_size=5):\n",
    "        assert mask_type in ['A', 'B']\n",
    "        super().__init__(in_channels=in_channels, out_channels=out_channels, kernel_size=kernel_size, padding=kernel_size // 2)\n",
    "        self.register_buffer('mask', torch.zeros_like(self.weight))  # создаём маску так, чтобы модель не считала её параметрами\n",
    "        self.create_mask(mask_type)  # заполняем маску\n",
    "        \n",
    "        # self.weight - обучаемые веса модели размерности (out_channels, in_channels,\n",
    "        # kernel_size, kernel_size), семплируются из равномерного распределения\n",
    "        # U(−sqrt(k),sqrt(k)), k = 1/(C_{in} * kernel_size^2)\n",
    "\n",
    "    def forward(self, input):\n",
    "        # ====\n",
    "        self.weight.data *= self.mask  # * - покоординатное умножение, \n",
    "                                  # поддерживаем авторегрессионное свойство модели\n",
    "        return super().forward(input)  # вызываем метод forward из родительского класса\n",
    "        # ====\n",
    "\n",
    "    def create_mask(self, mask_type):\n",
    "        # ====\n",
    "        \n",
    "        kernel_size_0 = self.weight.shape[2]\n",
    "        kernel_size_1 = self.weight.shape[3]\n",
    "        \n",
    "        self.mask[:,:,:kernel_size_0 // 2,:] = 1\n",
    "        if mask_type == 'A':  # не зависит от x_i\n",
    "            self.mask[:,:,kernel_size_0 // 2, :kernel_size_1//2] = 1\n",
    "        if mask_type == 'B':  # зависит от x_i\n",
    "            self.mask[:,:,kernel_size_0 // 2, :kernel_size_1 // 2 + 1] = 1\n",
    "        \n",
    "        # ====\n",
    "\n",
    "\n",
    "def test_masked_conv2d():\n",
    "    layer = MaskedConv2d('A', 2, 2)\n",
    "    assert np.allclose(layer.mask[:, :, 2, 2].numpy(), np.zeros((2, 2)))\n",
    "\n",
    "    layer = MaskedConv2d('B', 2, 2)\n",
    "    assert np.allclose(layer.mask[:, :, 2, 2].numpy(), np.ones((2, 2)))\n",
    "\n",
    "\n",
    "test_masked_conv2d()"
   ]
  },
  {
   "cell_type": "markdown",
   "metadata": {
    "id": "lPw0osOrAJFm"
   },
   "source": [
    "[Layer Normalization](https://arxiv.org/abs/1607.06450) helps to stabilize training process."
   ]
  },
  {
   "cell_type": "code",
   "execution_count": 6,
   "metadata": {
    "id": "npUNrimpAGUZ"
   },
   "outputs": [],
   "source": [
    "class LayerNorm(nn.LayerNorm):\n",
    "    def __init__(self, n_filters):\n",
    "        super().__init__(n_filters)\n",
    "\n",
    "    def forward(self, x):\n",
    "        x = x.permute(0, 2, 3, 1).contiguous()\n",
    "        x = super().forward(x)\n",
    "        return x.permute(0, 3, 1, 2).contiguous()"
   ]
  },
  {
   "cell_type": "markdown",
   "metadata": {
    "id": "11_PstPkAXig"
   },
   "source": [
    "Now we are ready to construct the main PixelCNN model."
   ]
  },
  {
   "cell_type": "code",
   "execution_count": 7,
   "metadata": {
    "id": "xC6E-hrHALYf"
   },
   "outputs": [],
   "source": [
    "class PixelCNN(nn.Module):\n",
    "    def __init__(\n",
    "        self, \n",
    "        input_shape, \n",
    "        n_filters=64, \n",
    "        kernel_size=7, \n",
    "        n_layers=5, \n",
    "        use_layer_norm=True\n",
    "    ):\n",
    "      \n",
    "        super().__init__()\n",
    "        self.input_shape = input_shape\n",
    "\n",
    "        # ====\n",
    "        # your code\n",
    "        # apply the sequence of MaskedConv2d -> LayerNorm (it is optional) -> ReLU\n",
    "        # the last layer should be MaskedConv2d (not ReLU)\n",
    "        # Note 1: the first conv layer should be of type 'A'\n",
    "        # Note 2: final output_dim in MaskedConv2d must be 2\n",
    "        \n",
    "        \n",
    "        if n_layers == 1:\n",
    "            Model = nn.Sequential(\n",
    "                MaskedConv2d('A', 1, 2, kernel_size)\n",
    "            )\n",
    "        else:\n",
    "            if use_layer_norm:\n",
    "                Model = nn.Sequential(\n",
    "                    MaskedConv2d('A', 1, n_filters, kernel_size),\n",
    "                    LayerNorm(n_filters),\n",
    "                    nn.ReLU())\n",
    "            else:\n",
    "                Model = nn.Sequential(\n",
    "                    MaskedConv2d('A', 1, n_filters, kernel_size),\n",
    "                    nn.ReLU())\n",
    "            \n",
    "            for i in range(1, n_layers-1):\n",
    "                Model.append(MaskedConv2d('B', n_filters, n_filters, kernel_size))\n",
    "                if use_layer_norm:\n",
    "                    Model.append(LayerNorm(n_filters))\n",
    "                Model.append(nn.ReLU())\n",
    "            \n",
    "            \n",
    "            Model.append(MaskedConv2d('B', n_filters, 2, kernel_size))\n",
    "        self.net = Model\n",
    "        # ====\n",
    "    \n",
    "\n",
    "    def forward(self, x):\n",
    "        # read the forward method carefully\n",
    "        batch_size = x.shape[0]\n",
    "        out = (x.float() - 0.5) / 0.5\n",
    "        out = self.net(out)\n",
    "        return out.view(batch_size, 2, 1, *self.input_shape)\n",
    "\n",
    "    def loss(self, x):\n",
    "        # ====\n",
    "        loss_function = nn.CrossEntropyLoss()\n",
    "        total_loss = loss_function(self.forward(x), x.long())\n",
    "        # ====\n",
    "        return {'total_loss': total_loss}\n",
    "\n",
    "    def sample(self, n):\n",
    "        # read carefully the sampling process\n",
    "        if USE_CUDA:\n",
    "            samples = torch.zeros(n, 1, *self.input_shape).cuda()\n",
    "        else:\n",
    "            samples = torch.zeros(n, 1, *self.input_shape)\n",
    "        with torch.no_grad():\n",
    "            for r in range(self.input_shape[0]):\n",
    "                for c in range(self.input_shape[1]):\n",
    "                    logits = self(samples)[:, :, :, r, c]\n",
    "                    probs = F.softmax(logits, dim=1).squeeze(-1)\n",
    "                    samples[:, 0, r, c] = torch.multinomial(probs, num_samples=1).squeeze(-1)\n",
    "        return samples.cpu().numpy()"
   ]
  },
  {
   "cell_type": "code",
   "execution_count": 8,
   "metadata": {
    "colab": {
     "base_uri": "https://localhost:8080/",
     "height": 49,
     "referenced_widgets": [
      "82b5b39ebb5e43b89442a1321d9c91b9",
      "2803c6582d3e48669d0fef4ca426155c",
      "45e97edbab5d4b649d7a7f4025eea7bd",
      "14e4dcfda7c249c6bb685f025b97f0b3",
      "61f2e439e652405ba58efa1650e46c01",
      "810242c057fc47a387b2048696c21c84",
      "b01ce3a9708f4502be28b50d6826ed5b",
      "8045e5b7a9ed48dbb28a4330d05b5cab",
      "45cb705003dc4a43926a5e6ca3c6e72a",
      "b3d031c7d47a43b6976c4b2d039b3758",
      "733676c2dca14979a91ea1711f23edf2"
     ]
    },
    "id": "9FI5foNQBlr5",
    "outputId": "22e12517-835c-4a45-cbd4-32298d690ffa"
   },
   "outputs": [
    {
     "data": {
      "application/vnd.jupyter.widget-view+json": {
       "model_id": "4fe8afc764644cfca239c04ec77d0bb9",
       "version_major": 2,
       "version_minor": 0
      },
      "text/plain": [
       "  0%|          | 0/6 [00:00<?, ?it/s]"
      ]
     },
     "metadata": {},
     "output_type": "display_data"
    }
   ],
   "source": [
    "# ====\n",
    "# your code\n",
    "# choose these parameters\n",
    "# (h ere you could see the tips for the hyperparameters, they could help you, \n",
    "# but sometimes you could find more appropriate values,\n",
    "# experiment with them.)\n",
    "EPOCHS = 6             # > 5\n",
    "BATCH_SIZE = 32        # any adequate value\n",
    "LR = 5e-3             # < 1e-2\n",
    "N_LAYERS = 3          # < 10\n",
    "N_FILTERS =  16       # < 128\n",
    "USE_LAYER_NORM = True\n",
    "# ====\n",
    "\n",
    "model = PixelCNN(\n",
    "    input_shape=(28, 28), \n",
    "    n_filters=N_FILTERS, \n",
    "    kernel_size=5, \n",
    "    n_layers=N_LAYERS, \n",
    "    use_layer_norm=USE_LAYER_NORM\n",
    ")\n",
    "\n",
    "loss = model.loss(torch.zeros(1, 1, 28, 28))\n",
    "assert isinstance(loss, dict)\n",
    "assert 'total_loss' in loss\n",
    "\n",
    "train_loader = data.DataLoader(train_data, batch_size=BATCH_SIZE, shuffle=True)\n",
    "test_loader = data.DataLoader(test_data, batch_size=BATCH_SIZE)\n",
    "train_losses, test_losses = train_model(\n",
    "    model, \n",
    "    train_loader, \n",
    "    test_loader, \n",
    "    epochs=EPOCHS, \n",
    "    lr=LR, \n",
    "    use_tqdm=True, \n",
    "    use_cuda=USE_CUDA\n",
    ")\n",
    "\n",
    "assert test_losses['total_loss'][-1] < 0.10"
   ]
  },
  {
   "cell_type": "markdown",
   "metadata": {
    "id": "oLR1d8HICihS"
   },
   "source": [
    "Even if the test loss is bigger than the value in assert, try to visualize train/test curves, it could find you to find the bug."
   ]
  },
  {
   "cell_type": "code",
   "execution_count": 9,
   "metadata": {
    "colab": {
     "base_uri": "https://localhost:8080/",
     "height": 286
    },
    "id": "RIiyqsSRCZXs",
    "outputId": "33bc1fb8-6a01-43a9-85a6-52f6a6ed5b1f"
   },
   "outputs": [
    {
     "data": {
      "image/png": "[encoded data removed]",
      "text/plain": [
       "<Figure size 432x288 with 1 Axes>"
      ]
     },
     "metadata": {
      "needs_background": "light"
     },
     "output_type": "display_data"
    }
   ],
   "source": [
    "plot_training_curves(train_losses, test_losses)"
   ]
  },
  {
   "cell_type": "markdown",
   "metadata": {
    "id": "bdMY__h8CwE5"
   },
   "source": [
    "Now we sample the new images from the model. You have to emphasize that the sampling from the autoregressive model is slow, because it is a sequential process."
   ]
  },
  {
   "cell_type": "code",
   "execution_count": 12,
   "metadata": {
    "colab": {
     "base_uri": "https://localhost:8080/",
     "height": 373
    },
    "id": "skwg5JlRCt0s",
    "outputId": "c5cf5537-84ae-4f13-e2b7-a6fda652eeae"
   },
   "outputs": [
    {
     "data": {
      "image/png": "[encoded data removed]",
      "text/plain": [
       "<Figure size 432x432 with 1 Axes>"
      ]
     },
     "metadata": {
      "needs_background": "light"
     },
     "output_type": "display_data"
    }
   ],
   "source": [
    "samples = model.sample(25)\n",
    "show_samples(samples, title='MNIST samples', nrow=5)"
   ]
  },
  {
   "cell_type": "markdown",
   "metadata": {
    "id": "yUv1QflqDAwk"
   },
   "source": [
    "## Task 3: PixelCNN receptive field and autocompletion (3pt)\n",
    "\n",
    "The PixelCNN model is a powerful model. But the model has drawbacks.\n",
    "\n",
    "1. The model is sequential and sampling is really slow (it is a drawback of all AR models).\n",
    "\n",
    "2. Second, the receptive field of the model is not so large. Even if the model is well-trained, the samples do not have long-range history. "
   ]
  },
  {
   "cell_type": "markdown",
   "metadata": {
    "id": "6LK1ttmcqfvW"
   },
   "source": [
    "### Receptive field\n",
    "\n",
    "To validate the second point and check our implementation of masked convolutions, let try to visualize the receptive field of the model. \n",
    "\n",
    "We should see that with increasing number of convolutional layers, the receptive field grows. The receptive field can be empirically measured by backpropagating an arbitrary loss for the output features of a specific pixel with respect to the input. We implement this idea below, and visualize the receptive field below."
   ]
  },
  {
   "cell_type": "code",
   "execution_count": 13,
   "metadata": {
    "id": "J1ekd7rGDBTi"
   },
   "outputs": [],
   "source": [
    "def plot_receptive_field(model, model_name):\n",
    "    # ====\n",
    "    # your code\n",
    "    # 1) create tensor with zeros and set required_grad to True.\n",
    "    In = torch.zeros(1, 1, 28, 28)\n",
    "    In.requires_grad = True\n",
    "    # 2) apply model to the tensor\n",
    "    Out = model.forward(In)\n",
    "    # 3) apply backward() to the center pixel of model output\n",
    "    x_center = 14\n",
    "    y_center = 14\n",
    "    Out[:,0,:,x_center,y_center].backward()\n",
    "    # 4) take the gradient with respect to input\n",
    "    gradient = In.grad\n",
    "    gradient = gradient.reshape(28,28)\n",
    "    # 5) binary receptive field is an indicator map in which we stay 1's if gradient more than 1e-8\n",
    "    binary_map = gradient.clone()\n",
    "    binary_map[(binary_map > 1e-8) | (binary_map < -1e-8) ] = 1\n",
    "    # 6) weighted receptive field is the normalized gradient (values lies in [0, 1])x\n",
    "    weighted_map = gradient.clone()\n",
    "    weighted_map = (weighted_map - weighted_map.min()) / (weighted_map.max() - weighted_map.min())\n",
    "    # ====\n",
    "\n",
    "    # we stack the maps to get RGB image\n",
    "    binary_map = np.stack([binary_map, binary_map, binary_map], axis=-1)\n",
    "    weighted_map = np.stack([weighted_map, weighted_map, weighted_map], axis=-1)\n",
    "\n",
    "    # center point will be red\n",
    "    binary_map[x_center, y_center] = [1, 0, 0]\n",
    "    weighted_map[x_center, y_center] = [1, 0, 0]\n",
    "\n",
    "    fig, ax = plt.subplots(1,2, figsize=(10, 6))\n",
    "    ax[0].imshow(weighted_map, vmin=0.0, vmax=1.0)\n",
    "    ax[1].imshow(binary_map, vmin=0.0, vmax=1.0)\n",
    "\n",
    "    ax[0].set_title(f\"Weighted receptive field for {model_name}\")\n",
    "    ax[1].set_title(f\"Binary receptive field for {model_name}\")\n",
    "    \n",
    "    ax[0].axis('off')\n",
    "    ax[1].axis('off')\n",
    "    plt.show()"
   ]
  },
  {
   "cell_type": "code",
   "execution_count": 14,
   "metadata": {
    "colab": {
     "base_uri": "https://localhost:8080/",
     "height": 1000
    },
    "id": "ruOurWdFDIYP",
    "outputId": "bd34d6a2-a10e-423f-ee62-d48070137066"
   },
   "outputs": [
    {
     "data": {
      "image/png": "[encoded data removed]",
      "text/plain": [
       "<Figure size 720x432 with 2 Axes>"
      ]
     },
     "metadata": {
      "needs_background": "light"
     },
     "output_type": "display_data"
    },
    {
     "data": {
      "image/png": "[encoded data removed]",
      "text/plain": [
       "<Figure size 720x432 with 2 Axes>"
      ]
     },
     "metadata": {
      "needs_background": "light"
     },
     "output_type": "display_data"
    },
    {
     "data": {
      "image/png": "[encoded data removed]",
      "text/plain": [
       "<Figure size 720x432 with 2 Axes>"
      ]
     },
     "metadata": {
      "needs_background": "light"
     },
     "output_type": "display_data"
    },
    {
     "data": {
      "image/png": "[encoded data removed]",
      "text/plain": [
       "<Figure size 720x432 with 2 Axes>"
      ]
     },
     "metadata": {
      "needs_background": "light"
     },
     "output_type": "display_data"
    }
   ],
   "source": [
    "for n_layers in [1, 3, 5, 6]:\n",
    "    model = PixelCNN(\n",
    "        input_shape=(28, 28), \n",
    "        n_filters=32, \n",
    "        kernel_size=5, \n",
    "        n_layers=n_layers, \n",
    "        use_layer_norm=True\n",
    "    )\n",
    "    if USE_CUDA:\n",
    "        model = model.cuda()\n",
    "    plot_receptive_field(model, model_name=f\"PixelCNN {n_layers} layers\")"
   ]
  },
  {
   "cell_type": "markdown",
   "metadata": {
    "id": "Njl3VAmruh_v"
   },
   "source": [
    "You have to see that PixelCNN has strange blind spot in binary receptive field plot on the right side. This is a known issue of PixelCNN model. Please, try to understand why it happens. \n",
    "\n",
    "One way to solve this problem is a [GatedPixelCNN](https://arxiv.org/pdf/1606.05328.pdf) model (see paper, if you are interested in)."
   ]
  },
  {
   "cell_type": "markdown",
   "metadata": {
    "id": "z8eXfFdWzoVu"
   },
   "source": [
    "### Image autocompletion\n",
    "\n",
    "The last feature of autoregressive model that we try is auto-completing an image. As autoregressive models predict pixels one by one, we can set the first pixels to predefined values and check how the model completes the image. \n",
    "\n",
    "For implementing this, we just need to skip the iterations in the sampling loop that already have a value unequals to -1. \n",
    "We redefine the sample method in out PixelCNN class to allow it to take init of the sample."
   ]
  },
  {
   "cell_type": "code",
   "execution_count": 15,
   "metadata": {
    "id": "2X24nc_eqET-"
   },
   "outputs": [],
   "source": [
    "class PixelCNNAutoComplete(PixelCNN):\n",
    "    def sample(self, n, init=None):\n",
    "        # ====\n",
    "        # your code\n",
    "        # this method almost the same as the method of the base PixelCNN model\n",
    "        # but now if init is given, this tensor will be used as a starting image. \n",
    "        # The pixels to fill should be -1 in the input tensor.\n",
    "        if init is not None:\n",
    "            samples = init.clone()\n",
    "        else:\n",
    "            if USE_CUDA:\n",
    "                samples = torch.zeros(n, 1, *self.input_shape).cuda()\n",
    "            else:\n",
    "                samples = torch.zeros(n, 1, *self.input_shape)\n",
    "        with torch.no_grad():\n",
    "            for r in range(self.input_shape[0]):\n",
    "                for c in range(self.input_shape[1]):\n",
    "                    if samples[0,0,r,c] == -1:  # заполняем только те пиксели, где значение равно -1\n",
    "                        logits = self(samples)[:, :, :, r, c]\n",
    "                        probs = F.softmax(logits, dim=1).squeeze(-1)\n",
    "                        samples[:, 0, r, c] = torch.multinomial(probs, num_samples=1).squeeze(-1)\n",
    "        return samples.cpu().numpy()\n",
    "        # ===="
   ]
  },
  {
   "cell_type": "markdown",
   "metadata": {
    "id": "l6x2bX4Z0w5E"
   },
   "source": [
    "You have to repeat the model training."
   ]
  },
  {
   "cell_type": "code",
   "execution_count": 16,
   "metadata": {
    "colab": {
     "base_uri": "https://localhost:8080/",
     "height": 49,
     "referenced_widgets": [
      "e6b80473cd0a47ef83c027fdf1fd0ed9",
      "d334c40c69ae4f73960745abaad192c9",
      "60c098f849364b77bf8e104bd52906fc",
      "b54e291700024a68b62dce374e543b3e",
      "b0c398db58764c2489638b982bcd416d",
      "5d6374ca21ba4763aef5aaf8a22c4f0b",
      "c65445ffee78458aad29d53d5407ebea",
      "f4ca279dda3a48209cdde8380470ff11",
      "eaefcb9391b1498699b73a221161b228",
      "ad6d221ada7f4a04b0495210baadfaf5",
      "8bc321283b51452fb1a177f8d712fdbc"
     ]
    },
    "id": "qFdMAilywnI-",
    "outputId": "5f441176-2ca0-4918-e446-558c1ba8993f"
   },
   "outputs": [
    {
     "data": {
      "application/vnd.jupyter.widget-view+json": {
       "model_id": "c387b87ac43b44d78e0168878ff9c239",
       "version_major": 2,
       "version_minor": 0
      },
      "text/plain": [
       "  0%|          | 0/6 [00:00<?, ?it/s]"
      ]
     },
     "metadata": {},
     "output_type": "display_data"
    }
   ],
   "source": [
    "model = PixelCNNAutoComplete(\n",
    "    input_shape=(28, 28), \n",
    "    n_filters=N_FILTERS, \n",
    "    kernel_size=5, \n",
    "    n_layers=N_LAYERS, \n",
    "    use_layer_norm=USE_LAYER_NORM\n",
    ")\n",
    "\n",
    "train_losses, test_losses = train_model(\n",
    "    model, \n",
    "    train_loader, \n",
    "    test_loader, \n",
    "    epochs=EPOCHS, \n",
    "    lr=LR, \n",
    "    use_tqdm=True, \n",
    "    use_cuda=USE_CUDA\n",
    ")\n",
    "\n",
    "assert test_losses['total_loss'][-1] < 0.10"
   ]
  },
  {
   "cell_type": "markdown",
   "metadata": {
    "id": "Rd9rpg2I0paF"
   },
   "source": [
    "We randomly take images from the training set, mask the lower half of the image (set -1's), and let the model autocomplete it. We do this several times for each image to see the diversity of samples."
   ]
  },
  {
   "cell_type": "code",
   "execution_count": 19,
   "metadata": {
    "colab": {
     "base_uri": "https://localhost:8080/",
     "height": 980
    },
    "id": "yR0zivWlwsYR",
    "outputId": "44eb5479-b269-4ff6-9b69-769afc50b69e"
   },
   "outputs": [
    {
     "data": {
      "image/png": "[encoded data removed]",
      "text/plain": [
       "<Figure size 432x432 with 1 Axes>"
      ]
     },
     "metadata": {
      "needs_background": "light"
     },
     "output_type": "display_data"
    },
    {
     "data": {
      "image/png": "[encoded data removed]",
      "text/plain": [
       "<Figure size 432x432 with 1 Axes>"
      ]
     },
     "metadata": {
      "needs_background": "light"
     },
     "output_type": "display_data"
    },
    {
     "data": {
      "image/png": "[encoded data removed]",
      "text/plain": [
       "<Figure size 432x432 with 1 Axes>"
      ]
     },
     "metadata": {
      "needs_background": "light"
     },
     "output_type": "display_data"
    },
    {
     "data": {
      "image/png": "[encoded data removed]",
      "text/plain": [
       "<Figure size 432x432 with 1 Axes>"
      ]
     },
     "metadata": {
      "needs_background": "light"
     },
     "output_type": "display_data"
    },
    {
     "data": {
      "image/png": "[encoded data removed]",
      "text/plain": [
       "<Figure size 432x432 with 1 Axes>"
      ]
     },
     "metadata": {
      "needs_background": "light"
     },
     "output_type": "display_data"
    },
    {
     "data": {
      "image/png": "[encoded data removed]",
      "text/plain": [
       "<Figure size 432x432 with 1 Axes>"
      ]
     },
     "metadata": {
      "needs_background": "light"
     },
     "output_type": "display_data"
    }
   ],
   "source": [
    "def autocomplete_image(image, model, n_samples):\n",
    "    # Remove lower half of the image\n",
    "    image_init = image.copy()\n",
    "    image_init[:, image.shape[1] // 2:, :] = -1\n",
    "    samples = np.stack([image, np.maximum(image_init, 0)])\n",
    "    show_samples(samples, title=\"Original image and input image to sampling\", nrow=2)\n",
    "    # Generate completions\n",
    "    image_init = torch.tensor(image_init)\n",
    "    if USE_CUDA:\n",
    "        image_init = image_init.unsqueeze(dim=0).expand(n_samples, -1, -1, -1).cuda()\n",
    "    else:\n",
    "        image_init = image_init.unsqueeze(dim=0).expand(n_samples, -1, -1, -1)\n",
    "    img_generated = model.sample(n_samples, image_init)\n",
    "    show_samples(img_generated, title=\"n_samples\", nrow=4)\n",
    "\n",
    "\n",
    "for i in range(1, 4):\n",
    "    autocomplete_image(train_data[i], model, n_samples=4)"
   ]
  },
  {
   "cell_type": "code",
   "execution_count": null,
   "metadata": {},
   "outputs": [],
   "source": []
  }
 ],
 "metadata": {
  "accelerator": "GPU",
  "colab": {
   "collapsed_sections": [],
   "name": "hw1_solutions_updated.ipynb",
   "provenance": [],
   "toc_visible": true
  },
  "kernelspec": {
   "display_name": "Python 3 (ipykernel)",
   "language": "python",
   "name": "python3"
  },
  "language_info": {
   "codemirror_mode": {
    "name": "ipython",
    "version": 3
   },
   "file_extension": ".py",
   "mimetype": "text/x-python",
   "name": "python",
   "nbconvert_exporter": "python",
   "pygments_lexer": "ipython3",
   "version": "3.9.7"
  },
  "vscode": {
   "interpreter": {
    "hash": "784c2e2ba9cdfc1ce1e8c565791a35aa78e810f3990b00899de93c9f5ea5b088"
   }
  },
  "widgets": {
   "application/vnd.jupyter.widget-state+json": {
    "14e4dcfda7c249c6bb685f025b97f0b3": {
     "model_module": "@jupyter-widgets/controls",
     "model_module_version": "1.5.0",
     "model_name": "FloatProgressModel",
     "state": {
      "_dom_classes": [],
      "_model_module": "@jupyter-widgets/controls",
      "_model_module_version": "1.5.0",
      "_model_name": "FloatProgressModel",
      "_view_count": null,
      "_view_module": "@jupyter-widgets/controls",
      "_view_module_version": "1.5.0",
      "_view_name": "ProgressView",
      "bar_style": "success",
      "description": "",
      "description_tooltip": null,
      "layout": "IPY_MODEL_45cb705003dc4a43926a5e6ca3c6e72a",
      "max": 10,
      "min": 0,
      "orientation": "horizontal",
      "style": "IPY_MODEL_8045e5b7a9ed48dbb28a4330d05b5cab",
      "value": 10
     }
    },
    "2803c6582d3e48669d0fef4ca426155c": {
     "model_module": "@jupyter-widgets/base",
     "model_module_version": "1.2.0",
     "model_name": "LayoutModel",
     "state": {
      "_model_module": "@jupyter-widgets/base",
      "_model_module_version": "1.2.0",
      "_model_name": "LayoutModel",
      "_view_count": null,
      "_view_module": "@jupyter-widgets/base",
      "_view_module_version": "1.2.0",
      "_view_name": "LayoutView",
      "align_content": null,
      "align_items": null,
      "align_self": null,
      "border": null,
      "bottom": null,
      "display": null,
      "flex": null,
      "flex_flow": null,
      "grid_area": null,
      "grid_auto_columns": null,
      "grid_auto_flow": null,
      "grid_auto_rows": null,
      "grid_column": null,
      "grid_gap": null,
      "grid_row": null,
      "grid_template_areas": null,
      "grid_template_columns": null,
      "grid_template_rows": null,
      "height": null,
      "justify_content": null,
      "justify_items": null,
      "left": null,
      "margin": null,
      "max_height": null,
      "max_width": null,
      "min_height": null,
      "min_width": null,
      "object_fit": null,
      "object_position": null,
      "order": null,
      "overflow": null,
      "overflow_x": null,
      "overflow_y": null,
      "padding": null,
      "right": null,
      "top": null,
      "visibility": null,
      "width": null
     }
    },
    "45cb705003dc4a43926a5e6ca3c6e72a": {
     "model_module": "@jupyter-widgets/base",
     "model_module_version": "1.2.0",
     "model_name": "LayoutModel",
     "state": {
      "_model_module": "@jupyter-widgets/base",
      "_model_module_version": "1.2.0",
      "_model_name": "LayoutModel",
      "_view_count": null,
      "_view_module": "@jupyter-widgets/base",
      "_view_module_version": "1.2.0",
      "_view_name": "LayoutView",
      "align_content": null,
      "align_items": null,
      "align_self": null,
      "border": null,
      "bottom": null,
      "display": null,
      "flex": null,
      "flex_flow": null,
      "grid_area": null,
      "grid_auto_columns": null,
      "grid_auto_flow": null,
      "grid_auto_rows": null,
      "grid_column": null,
      "grid_gap": null,
      "grid_row": null,
      "grid_template_areas": null,
      "grid_template_columns": null,
      "grid_template_rows": null,
      "height": null,
      "justify_content": null,
      "justify_items": null,
      "left": null,
      "margin": null,
      "max_height": null,
      "max_width": null,
      "min_height": null,
      "min_width": null,
      "object_fit": null,
      "object_position": null,
      "order": null,
      "overflow": null,
      "overflow_x": null,
      "overflow_y": null,
      "padding": null,
      "right": null,
      "top": null,
      "visibility": null,
      "width": null
     }
    },
    "45e97edbab5d4b649d7a7f4025eea7bd": {
     "model_module": "@jupyter-widgets/controls",
     "model_module_version": "1.5.0",
     "model_name": "HTMLModel",
     "state": {
      "_dom_classes": [],
      "_model_module": "@jupyter-widgets/controls",
      "_model_module_version": "1.5.0",
      "_model_name": "HTMLModel",
      "_view_count": null,
      "_view_module": "@jupyter-widgets/controls",
      "_view_module_version": "1.5.0",
      "_view_name": "HTMLView",
      "description": "",
      "description_tooltip": null,
      "layout": "IPY_MODEL_b01ce3a9708f4502be28b50d6826ed5b",
      "placeholder": "​",
      "style": "IPY_MODEL_810242c057fc47a387b2048696c21c84",
      "value": "100%"
     }
    },
    "5d6374ca21ba4763aef5aaf8a22c4f0b": {
     "model_module": "@jupyter-widgets/controls",
     "model_module_version": "1.5.0",
     "model_name": "DescriptionStyleModel",
     "state": {
      "_model_module": "@jupyter-widgets/controls",
      "_model_module_version": "1.5.0",
      "_model_name": "DescriptionStyleModel",
      "_view_count": null,
      "_view_module": "@jupyter-widgets/base",
      "_view_module_version": "1.2.0",
      "_view_name": "StyleView",
      "description_width": ""
     }
    },
    "60c098f849364b77bf8e104bd52906fc": {
     "model_module": "@jupyter-widgets/controls",
     "model_module_version": "1.5.0",
     "model_name": "HTMLModel",
     "state": {
      "_dom_classes": [],
      "_model_module": "@jupyter-widgets/controls",
      "_model_module_version": "1.5.0",
      "_model_name": "HTMLModel",
      "_view_count": null,
      "_view_module": "@jupyter-widgets/controls",
      "_view_module_version": "1.5.0",
      "_view_name": "HTMLView",
      "description": "",
      "description_tooltip": null,
      "layout": "IPY_MODEL_c65445ffee78458aad29d53d5407ebea",
      "placeholder": "​",
      "style": "IPY_MODEL_5d6374ca21ba4763aef5aaf8a22c4f0b",
      "value": "100%"
     }
    },
    "61f2e439e652405ba58efa1650e46c01": {
     "model_module": "@jupyter-widgets/controls",
     "model_module_version": "1.5.0",
     "model_name": "HTMLModel",
     "state": {
      "_dom_classes": [],
      "_model_module": "@jupyter-widgets/controls",
      "_model_module_version": "1.5.0",
      "_model_name": "HTMLModel",
      "_view_count": null,
      "_view_module": "@jupyter-widgets/controls",
      "_view_module_version": "1.5.0",
      "_view_name": "HTMLView",
      "description": "",
      "description_tooltip": null,
      "layout": "IPY_MODEL_733676c2dca14979a91ea1711f23edf2",
      "placeholder": "​",
      "style": "IPY_MODEL_b3d031c7d47a43b6976c4b2d039b3758",
      "value": " 10/10 [07:21&lt;00:00, 44.00s/it]"
     }
    },
    "733676c2dca14979a91ea1711f23edf2": {
     "model_module": "@jupyter-widgets/base",
     "model_module_version": "1.2.0",
     "model_name": "LayoutModel",
     "state": {
      "_model_module": "@jupyter-widgets/base",
      "_model_module_version": "1.2.0",
      "_model_name": "LayoutModel",
      "_view_count": null,
      "_view_module": "@jupyter-widgets/base",
      "_view_module_version": "1.2.0",
      "_view_name": "LayoutView",
      "align_content": null,
      "align_items": null,
      "align_self": null,
      "border": null,
      "bottom": null,
      "display": null,
      "flex": null,
      "flex_flow": null,
      "grid_area": null,
      "grid_auto_columns": null,
      "grid_auto_flow": null,
      "grid_auto_rows": null,
      "grid_column": null,
      "grid_gap": null,
      "grid_row": null,
      "grid_template_areas": null,
      "grid_template_columns": null,
      "grid_template_rows": null,
      "height": null,
      "justify_content": null,
      "justify_items": null,
      "left": null,
      "margin": null,
      "max_height": null,
      "max_width": null,
      "min_height": null,
      "min_width": null,
      "object_fit": null,
      "object_position": null,
      "order": null,
      "overflow": null,
      "overflow_x": null,
      "overflow_y": null,
      "padding": null,
      "right": null,
      "top": null,
      "visibility": null,
      "width": null
     }
    },
    "8045e5b7a9ed48dbb28a4330d05b5cab": {
     "model_module": "@jupyter-widgets/controls",
     "model_module_version": "1.5.0",
     "model_name": "ProgressStyleModel",
     "state": {
      "_model_module": "@jupyter-widgets/controls",
      "_model_module_version": "1.5.0",
      "_model_name": "ProgressStyleModel",
      "_view_count": null,
      "_view_module": "@jupyter-widgets/base",
      "_view_module_version": "1.2.0",
      "_view_name": "StyleView",
      "bar_color": null,
      "description_width": ""
     }
    },
    "810242c057fc47a387b2048696c21c84": {
     "model_module": "@jupyter-widgets/controls",
     "model_module_version": "1.5.0",
     "model_name": "DescriptionStyleModel",
     "state": {
      "_model_module": "@jupyter-widgets/controls",
      "_model_module_version": "1.5.0",
      "_model_name": "DescriptionStyleModel",
      "_view_count": null,
      "_view_module": "@jupyter-widgets/base",
      "_view_module_version": "1.2.0",
      "_view_name": "StyleView",
      "description_width": ""
     }
    },
    "82b5b39ebb5e43b89442a1321d9c91b9": {
     "model_module": "@jupyter-widgets/controls",
     "model_module_version": "1.5.0",
     "model_name": "HBoxModel",
     "state": {
      "_dom_classes": [],
      "_model_module": "@jupyter-widgets/controls",
      "_model_module_version": "1.5.0",
      "_model_name": "HBoxModel",
      "_view_count": null,
      "_view_module": "@jupyter-widgets/controls",
      "_view_module_version": "1.5.0",
      "_view_name": "HBoxView",
      "box_style": "",
      "children": [
       "IPY_MODEL_45e97edbab5d4b649d7a7f4025eea7bd",
       "IPY_MODEL_14e4dcfda7c249c6bb685f025b97f0b3",
       "IPY_MODEL_61f2e439e652405ba58efa1650e46c01"
      ],
      "layout": "IPY_MODEL_2803c6582d3e48669d0fef4ca426155c"
     }
    },
    "8bc321283b51452fb1a177f8d712fdbc": {
     "model_module": "@jupyter-widgets/base",
     "model_module_version": "1.2.0",
     "model_name": "LayoutModel",
     "state": {
      "_model_module": "@jupyter-widgets/base",
      "_model_module_version": "1.2.0",
      "_model_name": "LayoutModel",
      "_view_count": null,
      "_view_module": "@jupyter-widgets/base",
      "_view_module_version": "1.2.0",
      "_view_name": "LayoutView",
      "align_content": null,
      "align_items": null,
      "align_self": null,
      "border": null,
      "bottom": null,
      "display": null,
      "flex": null,
      "flex_flow": null,
      "grid_area": null,
      "grid_auto_columns": null,
      "grid_auto_flow": null,
      "grid_auto_rows": null,
      "grid_column": null,
      "grid_gap": null,
      "grid_row": null,
      "grid_template_areas": null,
      "grid_template_columns": null,
      "grid_template_rows": null,
      "height": null,
      "justify_content": null,
      "justify_items": null,
      "left": null,
      "margin": null,
      "max_height": null,
      "max_width": null,
      "min_height": null,
      "min_width": null,
      "object_fit": null,
      "object_position": null,
      "order": null,
      "overflow": null,
      "overflow_x": null,
      "overflow_y": null,
      "padding": null,
      "right": null,
      "top": null,
      "visibility": null,
      "width": null
     }
    },
    "ad6d221ada7f4a04b0495210baadfaf5": {
     "model_module": "@jupyter-widgets/controls",
     "model_module_version": "1.5.0",
     "model_name": "DescriptionStyleModel",
     "state": {
      "_model_module": "@jupyter-widgets/controls",
      "_model_module_version": "1.5.0",
      "_model_name": "DescriptionStyleModel",
      "_view_count": null,
      "_view_module": "@jupyter-widgets/base",
      "_view_module_version": "1.2.0",
      "_view_name": "StyleView",
      "description_width": ""
     }
    },
    "b01ce3a9708f4502be28b50d6826ed5b": {
     "model_module": "@jupyter-widgets/base",
     "model_module_version": "1.2.0",
     "model_name": "LayoutModel",
     "state": {
      "_model_module": "@jupyter-widgets/base",
      "_model_module_version": "1.2.0",
      "_model_name": "LayoutModel",
      "_view_count": null,
      "_view_module": "@jupyter-widgets/base",
      "_view_module_version": "1.2.0",
      "_view_name": "LayoutView",
      "align_content": null,
      "align_items": null,
      "align_self": null,
      "border": null,
      "bottom": null,
      "display": null,
      "flex": null,
      "flex_flow": null,
      "grid_area": null,
      "grid_auto_columns": null,
      "grid_auto_flow": null,
      "grid_auto_rows": null,
      "grid_column": null,
      "grid_gap": null,
      "grid_row": null,
      "grid_template_areas": null,
      "grid_template_columns": null,
      "grid_template_rows": null,
      "height": null,
      "justify_content": null,
      "justify_items": null,
      "left": null,
      "margin": null,
      "max_height": null,
      "max_width": null,
      "min_height": null,
      "min_width": null,
      "object_fit": null,
      "object_position": null,
      "order": null,
      "overflow": null,
      "overflow_x": null,
      "overflow_y": null,
      "padding": null,
      "right": null,
      "top": null,
      "visibility": null,
      "width": null
     }
    },
    "b0c398db58764c2489638b982bcd416d": {
     "model_module": "@jupyter-widgets/controls",
     "model_module_version": "1.5.0",
     "model_name": "HTMLModel",
     "state": {
      "_dom_classes": [],
      "_model_module": "@jupyter-widgets/controls",
      "_model_module_version": "1.5.0",
      "_model_name": "HTMLModel",
      "_view_count": null,
      "_view_module": "@jupyter-widgets/controls",
      "_view_module_version": "1.5.0",
      "_view_name": "HTMLView",
      "description": "",
      "description_tooltip": null,
      "layout": "IPY_MODEL_8bc321283b51452fb1a177f8d712fdbc",
      "placeholder": "​",
      "style": "IPY_MODEL_ad6d221ada7f4a04b0495210baadfaf5",
      "value": " 10/10 [07:16&lt;00:00, 44.16s/it]"
     }
    },
    "b3d031c7d47a43b6976c4b2d039b3758": {
     "model_module": "@jupyter-widgets/controls",
     "model_module_version": "1.5.0",
     "model_name": "DescriptionStyleModel",
     "state": {
      "_model_module": "@jupyter-widgets/controls",
      "_model_module_version": "1.5.0",
      "_model_name": "DescriptionStyleModel",
      "_view_count": null,
      "_view_module": "@jupyter-widgets/base",
      "_view_module_version": "1.2.0",
      "_view_name": "StyleView",
      "description_width": ""
     }
    },
    "b54e291700024a68b62dce374e543b3e": {
     "model_module": "@jupyter-widgets/controls",
     "model_module_version": "1.5.0",
     "model_name": "FloatProgressModel",
     "state": {
      "_dom_classes": [],
      "_model_module": "@jupyter-widgets/controls",
      "_model_module_version": "1.5.0",
      "_model_name": "FloatProgressModel",
      "_view_count": null,
      "_view_module": "@jupyter-widgets/controls",
      "_view_module_version": "1.5.0",
      "_view_name": "ProgressView",
      "bar_style": "success",
      "description": "",
      "description_tooltip": null,
      "layout": "IPY_MODEL_eaefcb9391b1498699b73a221161b228",
      "max": 10,
      "min": 0,
      "orientation": "horizontal",
      "style": "IPY_MODEL_f4ca279dda3a48209cdde8380470ff11",
      "value": 10
     }
    },
    "c65445ffee78458aad29d53d5407ebea": {
     "model_module": "@jupyter-widgets/base",
     "model_module_version": "1.2.0",
     "model_name": "LayoutModel",
     "state": {
      "_model_module": "@jupyter-widgets/base",
      "_model_module_version": "1.2.0",
      "_model_name": "LayoutModel",
      "_view_count": null,
      "_view_module": "@jupyter-widgets/base",
      "_view_module_version": "1.2.0",
      "_view_name": "LayoutView",
      "align_content": null,
      "align_items": null,
      "align_self": null,
      "border": null,
      "bottom": null,
      "display": null,
      "flex": null,
      "flex_flow": null,
      "grid_area": null,
      "grid_auto_columns": null,
      "grid_auto_flow": null,
      "grid_auto_rows": null,
      "grid_column": null,
      "grid_gap": null,
      "grid_row": null,
      "grid_template_areas": null,
      "grid_template_columns": null,
      "grid_template_rows": null,
      "height": null,
      "justify_content": null,
      "justify_items": null,
      "left": null,
      "margin": null,
      "max_height": null,
      "max_width": null,
      "min_height": null,
      "min_width": null,
      "object_fit": null,
      "object_position": null,
      "order": null,
      "overflow": null,
      "overflow_x": null,
      "overflow_y": null,
      "padding": null,
      "right": null,
      "top": null,
      "visibility": null,
      "width": null
     }
    },
    "d334c40c69ae4f73960745abaad192c9": {
     "model_module": "@jupyter-widgets/base",
     "model_module_version": "1.2.0",
     "model_name": "LayoutModel",
     "state": {
      "_model_module": "@jupyter-widgets/base",
      "_model_module_version": "1.2.0",
      "_model_name": "LayoutModel",
      "_view_count": null,
      "_view_module": "@jupyter-widgets/base",
      "_view_module_version": "1.2.0",
      "_view_name": "LayoutView",
      "align_content": null,
      "align_items": null,
      "align_self": null,
      "border": null,
      "bottom": null,
      "display": null,
      "flex": null,
      "flex_flow": null,
      "grid_area": null,
      "grid_auto_columns": null,
      "grid_auto_flow": null,
      "grid_auto_rows": null,
      "grid_column": null,
      "grid_gap": null,
      "grid_row": null,
      "grid_template_areas": null,
      "grid_template_columns": null,
      "grid_template_rows": null,
      "height": null,
      "justify_content": null,
      "justify_items": null,
      "left": null,
      "margin": null,
      "max_height": null,
      "max_width": null,
      "min_height": null,
      "min_width": null,
      "object_fit": null,
      "object_position": null,
      "order": null,
      "overflow": null,
      "overflow_x": null,
      "overflow_y": null,
      "padding": null,
      "right": null,
      "top": null,
      "visibility": null,
      "width": null
     }
    },
    "e6b80473cd0a47ef83c027fdf1fd0ed9": {
     "model_module": "@jupyter-widgets/controls",
     "model_module_version": "1.5.0",
     "model_name": "HBoxModel",
     "state": {
      "_dom_classes": [],
      "_model_module": "@jupyter-widgets/controls",
      "_model_module_version": "1.5.0",
      "_model_name": "HBoxModel",
      "_view_count": null,
      "_view_module": "@jupyter-widgets/controls",
      "_view_module_version": "1.5.0",
      "_view_name": "HBoxView",
      "box_style": "",
      "children": [
       "IPY_MODEL_60c098f849364b77bf8e104bd52906fc",
       "IPY_MODEL_b54e291700024a68b62dce374e543b3e",
       "IPY_MODEL_b0c398db58764c2489638b982bcd416d"
      ],
      "layout": "IPY_MODEL_d334c40c69ae4f73960745abaad192c9"
     }
    },
    "eaefcb9391b1498699b73a221161b228": {
     "model_module": "@jupyter-widgets/base",
     "model_module_version": "1.2.0",
     "model_name": "LayoutModel",
     "state": {
      "_model_module": "@jupyter-widgets/base",
      "_model_module_version": "1.2.0",
      "_model_name": "LayoutModel",
      "_view_count": null,
      "_view_module": "@jupyter-widgets/base",
      "_view_module_version": "1.2.0",
      "_view_name": "LayoutView",
      "align_content": null,
      "align_items": null,
      "align_self": null,
      "border": null,
      "bottom": null,
      "display": null,
      "flex": null,
      "flex_flow": null,
      "grid_area": null,
      "grid_auto_columns": null,
      "grid_auto_flow": null,
      "grid_auto_rows": null,
      "grid_column": null,
      "grid_gap": null,
      "grid_row": null,
      "grid_template_areas": null,
      "grid_template_columns": null,
      "grid_template_rows": null,
      "height": null,
      "justify_content": null,
      "justify_items": null,
      "left": null,
      "margin": null,
      "max_height": null,
      "max_width": null,
      "min_height": null,
      "min_width": null,
      "object_fit": null,
      "object_position": null,
      "order": null,
      "overflow": null,
      "overflow_x": null,
      "overflow_y": null,
      "padding": null,
      "right": null,
      "top": null,
      "visibility": null,
      "width": null
     }
    },
    "f4ca279dda3a48209cdde8380470ff11": {
     "model_module": "@jupyter-widgets/controls",
     "model_module_version": "1.5.0",
     "model_name": "ProgressStyleModel",
     "state": {
      "_model_module": "@jupyter-widgets/controls",
      "_model_module_version": "1.5.0",
      "_model_name": "ProgressStyleModel",
      "_view_count": null,
      "_view_module": "@jupyter-widgets/base",
      "_view_module_version": "1.2.0",
      "_view_name": "StyleView",
      "bar_color": null,
      "description_width": ""
     }
    }
   }
  }
 },
 "nbformat": 4,
 "nbformat_minor": 4
}
